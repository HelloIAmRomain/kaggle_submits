{
 "cells": [
  {
   "cell_type": "markdown",
   "metadata": {
    "pycharm": {
     "name": "#%% md\n"
    }
   },
   "source": [
    "# Random Forest Classifier model for classification minst dataset\n",
    "--------------------------------------------\n",
    "## This is a [Kaggle](https://www.kaggle.com/competitions/digit-recognizer/) problem\n",
    "\n",
    "Made by [Romain Dodet](https://linkedin.com/in/Romain-Dodet)"
   ]
  },
  {
   "cell_type": "code",
   "execution_count": 1,
   "metadata": {
    "pycharm": {
     "name": "#%%\n"
    }
   },
   "outputs": [],
   "source": [
    "# Importing the libraries\n",
    "import numpy as np\n",
    "import matplotlib.pyplot as plt\n",
    "import pandas as pd\n",
    "import seaborn as sns\n",
    "from sklearn.preprocessing import StandardScaler\n",
    "from sklearn.ensemble import RandomForestClassifier\n",
    "from sklearn.metrics import confusion_matrix, accuracy_score, classification_report\n",
    "from sklearn.model_selection import cross_val_score\n",
    "from sklearn.model_selection import GridSearchCV"
   ]
  },
  {
   "cell_type": "code",
   "execution_count": 2,
   "metadata": {
    "pycharm": {
     "name": "#%%\n"
    }
   },
   "outputs": [],
   "source": [
    "# Importing the dataset\n",
    "train = pd.read_csv('data/train.csv')\n",
    "# Splitting the train data into train_X and train_y but still in a dataframe\n",
    "train_X = train.iloc[:, 1:]\n",
    "train_y = train.iloc[:, 0]\n",
    "test_X = pd.read_csv('data/test.csv')"
   ]
  },
  {
   "cell_type": "code",
   "execution_count": 3,
   "metadata": {
    "pycharm": {
     "name": "#%%\n"
    }
   },
   "outputs": [],
   "source": [
    "# Feature Scaling ans label encoding\n",
    "sc = StandardScaler()\n",
    "train_X = sc.fit_transform(train_X)\n",
    "test_X = sc.transform(test_X)"
   ]
  },
  {
   "cell_type": "code",
   "execution_count": null,
   "metadata": {
    "pycharm": {
     "is_executing": true,
     "name": "#%%\n"
    }
   },
   "outputs": [
    {
     "name": "stderr",
     "output_type": "stream",
     "text": [
      "exception calling callback for <Future at 0x2127378dc90 state=finished raised TerminatedWorkerError>\n",
      "Traceback (most recent call last):\n",
      "  File \"C:\\Users\\jaime\\Documents\\Projects\\kaggle_submits\\venv\\lib\\site-packages\\joblib\\externals\\loky\\_base.py\", line 625, in _invoke_callbacks\n",
      "    callback(self)\n",
      "  File \"C:\\Users\\jaime\\Documents\\Projects\\kaggle_submits\\venv\\lib\\site-packages\\joblib\\parallel.py\", line 359, in __call__\n",
      "    self.parallel.dispatch_next()\n",
      "  File \"C:\\Users\\jaime\\Documents\\Projects\\kaggle_submits\\venv\\lib\\site-packages\\joblib\\parallel.py\", line 794, in dispatch_next\n",
      "    if not self.dispatch_one_batch(self._original_iterator):\n",
      "  File \"C:\\Users\\jaime\\Documents\\Projects\\kaggle_submits\\venv\\lib\\site-packages\\joblib\\parallel.py\", line 861, in dispatch_one_batch\n",
      "    self._dispatch(tasks)\n",
      "  File \"C:\\Users\\jaime\\Documents\\Projects\\kaggle_submits\\venv\\lib\\site-packages\\joblib\\parallel.py\", line 779, in _dispatch\n",
      "    job = self._backend.apply_async(batch, callback=cb)\n",
      "  File \"C:\\Users\\jaime\\Documents\\Projects\\kaggle_submits\\venv\\lib\\site-packages\\joblib\\_parallel_backends.py\", line 531, in apply_async\n",
      "    future = self._workers.submit(SafeFunction(func))\n",
      "  File \"C:\\Users\\jaime\\Documents\\Projects\\kaggle_submits\\venv\\lib\\site-packages\\joblib\\externals\\loky\\reusable_executor.py\", line 177, in submit\n",
      "    return super(_ReusablePoolExecutor, self).submit(\n",
      "  File \"C:\\Users\\jaime\\Documents\\Projects\\kaggle_submits\\venv\\lib\\site-packages\\joblib\\externals\\loky\\process_executor.py\", line 1115, in submit\n",
      "    raise self._flags.broken\n",
      "joblib.externals.loky.process_executor.TerminatedWorkerError: A worker process managed by the executor was unexpectedly terminated. This could be caused by a segmentation fault while calling the function or by an excessive memory usage causing the Operating System to kill the worker.\n",
      "\n"
     ]
    }
   ],
   "source": [
    "# Fitting Random Forest Classification\n",
    "# Let's try to find the best parameters for our model\n",
    "params = {\"n_estimators\": [10, 50, 100, 200, 500, 1000],\n",
    "          \"max_depth\": [3, 5, 10, 20, 50, 100],\n",
    "          \"min_samples_split\": [2, 5, 10, 20, 50, 100],\n",
    "          \"min_samples_leaf\": [1, 2, 5, 10, 20, 50, 100],\n",
    "          \"max_features\": [\"auto\", \"sqrt\", \"log2\"]}\n",
    "rfc = RandomForestClassifier()\n",
    "grid = GridSearchCV(rfc, params, cv=5, n_jobs=-1)\n",
    "grid.fit(train_X, train_y)\n",
    "print(grid.best_params_)\n",
    "print(\"Best score: {}\".format(grid.best_score_))"
   ]
  },
  {
   "cell_type": "code",
   "execution_count": null,
   "metadata": {
    "pycharm": {
     "is_executing": true,
     "name": "#%%\n"
    }
   },
   "outputs": [],
   "source": [
    "# Plotting the confusion matrix\n",
    "cm = confusion_matrix(train_y, grid.predict(train_X))\n",
    "# Seaborne heatmap\n",
    "sns.heatmap(cm, annot=True, fmt=\"d\")\n",
    "plt.title(\"Confusion matrix\")\n",
    "plt.ylabel(\"True label\")\n",
    "plt.xlabel(\"Predicted label\")\n",
    "plt.show()"
   ]
  },
  {
   "cell_type": "code",
   "execution_count": null,
   "metadata": {
    "pycharm": {
     "is_executing": true,
     "name": "#%%\n"
    }
   },
   "outputs": [],
   "source": [
    "# Classification report\n",
    "print(classification_report(train_y, grid.predict(train_X)))\n",
    "# Accuracy score\n",
    "print(\"Accuracy score: {}\".format(accuracy_score(train_y, grid.predict(train_X))))"
   ]
  },
  {
   "cell_type": "code",
   "execution_count": null,
   "metadata": {
    "pycharm": {
     "is_executing": true,
     "name": "#%%\n"
    }
   },
   "outputs": [],
   "source": [
    "# Use the model to predict the test dataset\n",
    "y_pred = grid.predict(test_X)\n",
    "# Save the result in a csv file\n",
    "submission = pd.DataFrame({\"ImageId\": range(1, len(y_pred)+1), \"Label\": y_pred})\n",
    "submission.to_csv(\"submission_SVM.csv\", index=False)\n",
    "print(\"Submission file saved\")"
   ]
  }
 ],
 "metadata": {
  "kernelspec": {
   "display_name": "Python 3 (ipykernel)",
   "language": "python",
   "name": "python3"
  },
  "language_info": {
   "codemirror_mode": {
    "name": "ipython",
    "version": 2
   },
   "file_extension": ".py",
   "mimetype": "text/x-python",
   "name": "python",
   "nbconvert_exporter": "python",
   "pygments_lexer": "ipython2",
   "version": "2.7.6"
  }
 },
 "nbformat": 4,
 "nbformat_minor": 1
}